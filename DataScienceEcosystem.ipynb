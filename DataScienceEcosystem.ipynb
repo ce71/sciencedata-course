{
 "cells": [
  {
   "cell_type": "markdown",
   "id": "4e2a7efe-4ce0-46a8-9a18-93dc92678cf5",
   "metadata": {},
   "source": [
    "# Data Science Tools and Ecosystem"
   ]
  },
  {
   "cell_type": "markdown",
   "id": "1032bbb0-7b2d-41a3-b4ad-5c97f2949a5a",
   "metadata": {},
   "source": [
    "## In this notebook, Data Science Tools and Ecosystem are summarized"
   ]
  },
  {
   "cell_type": "markdown",
   "id": "46a47969-c773-448f-8cdb-587ba0e0fe1d",
   "metadata": {},
   "source": [
    "**Objectives:**\n",
    "-List of pouplar languages\n",
    "-list of common libraries\n",
    "-Arithmetic expressions examples"
   ]
  },
  {
   "cell_type": "markdown",
   "id": "2b77ef8f-156d-441c-bfba-6607a15cbf6d",
   "metadata": {},
   "source": [
    "# Some of the popular languages that Data Scientists use are:"
   ]
  },
  {
   "cell_type": "markdown",
   "id": "b1319c6c-3c96-4d94-a431-5e79caf9541a",
   "metadata": {},
   "source": [
    "1. Python\n",
    "2. R\n",
    "3. SQL\n",
    "4. JAvascript"
   ]
  },
  {
   "cell_type": "markdown",
   "id": "b1e7135b-68f9-4fec-8287-a545e087114b",
   "metadata": {},
   "source": [
    "## Some of the commonly used libraries used by Data Scientist include:"
   ]
  },
  {
   "cell_type": "markdown",
   "id": "e13fd0a7-2614-4e2d-97fe-201e50479473",
   "metadata": {},
   "source": [
    "1. Pandas\n",
    "2. Tensorflow\n",
    "3. Numpy\n",
    "4. Matplotlib"
   ]
  },
  {
   "cell_type": "markdown",
   "id": "22f5335e-ea9d-412a-957f-b503c01cc8ef",
   "metadata": {},
   "source": [
    "|Data Science Tools|\n",
    "|----|\n",
    "|Google Colab|\n",
    "|Jupyter Notebook|\n",
    "|Spyder|"
   ]
  },
  {
   "cell_type": "markdown",
   "id": "64b3f6b4-98f7-46bb-abb0-0de3f4b58b42",
   "metadata": {},
   "source": [
    "### Below are a few examples of evaluating arithmetic expressions in Python"
   ]
  },
  {
   "cell_type": "code",
   "execution_count": 6,
   "id": "438327b4-df0d-47c2-8f68-67f6733c5fad",
   "metadata": {},
   "outputs": [
    {
     "data": {
      "text/plain": [
       "17"
      ]
     },
     "execution_count": 6,
     "metadata": {},
     "output_type": "execute_result"
    }
   ],
   "source": [
    "#This a simple arithmetic expression to mutiply then add integers\n",
    "#(3*4)+5\n",
    "(3*4)+5"
   ]
  },
  {
   "cell_type": "code",
   "execution_count": 7,
   "id": "6ee5d6fd-3663-4593-962d-1b7bab99b53f",
   "metadata": {},
   "outputs": [
    {
     "data": {
      "text/plain": [
       "3.3333333333333335"
      ]
     },
     "execution_count": 7,
     "metadata": {},
     "output_type": "execute_result"
    }
   ],
   "source": [
    "#This will convert 200 minutes to hours by diving by 60\n",
    "(200/60)\n"
   ]
  },
  {
   "cell_type": "markdown",
   "id": "91888a3d-f2ac-4aea-a10c-55ea569002d2",
   "metadata": {},
   "source": [
    "## Author\n",
    "Carlos Augusto Esquivel Mendoza"
   ]
  },
  {
   "cell_type": "code",
   "execution_count": null,
   "id": "5bcb76eb-b054-4c4e-840b-acc6747d0261",
   "metadata": {},
   "outputs": [],
   "source": []
  }
 ],
 "metadata": {
  "kernelspec": {
   "display_name": "Python 3 (ipykernel)",
   "language": "python",
   "name": "python3"
  },
  "language_info": {
   "codemirror_mode": {
    "name": "ipython",
    "version": 3
   },
   "file_extension": ".py",
   "mimetype": "text/x-python",
   "name": "python",
   "nbconvert_exporter": "python",
   "pygments_lexer": "ipython3",
   "version": "3.11.7"
  }
 },
 "nbformat": 4,
 "nbformat_minor": 5
}
